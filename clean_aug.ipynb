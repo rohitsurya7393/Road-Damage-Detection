{
 "cells": [
  {
   "cell_type": "code",
   "execution_count": null,
   "id": "446117a1-7e6f-46e8-bd4d-dd182a6f26fb",
   "metadata": {},
   "outputs": [],
   "source": [
    "import os\n",
    "import os\n",
    "import cv2\n",
    "import xml.etree.ElementTree as ET\n",
    "from collections import defaultdict"
   ]
  },
  {
   "cell_type": "code",
   "execution_count": null,
   "id": "8c269500-0b6d-4da8-9365-cf07c3a1c03c",
   "metadata": {},
   "outputs": [],
   "source": []
  },
  {
   "cell_type": "code",
   "execution_count": null,
   "id": "6a38fb90-b198-43b7-9c47-acbcbaa4f0a6",
   "metadata": {},
   "outputs": [
    {
     "name": "stdout",
     "output_type": "stream",
     "text": [
      "📊 Class Frequencies from XML:\n",
      "D00: 16020 instances\n",
      "D20: 9856 instances\n",
      "D10: 8837 instances\n",
      "D40: 5997 instances\n",
      "D44: 5057 instances\n",
      "D50: 3581 instances\n",
      "D43: 793 instances\n",
      "Repair: 277 instances\n",
      "D01: 179 instances\n",
      "D11: 45 instances\n"
     ]
    }
   ],
   "source": [
    "\n",
    "\n",
    "\n",
    "xml_dir = \"./dataset_organized/annotations/train\"\n",
    "class_counts = defaultdict(int)\n",
    "\n",
    "for xml_file in os.listdir(xml_dir):\n",
    "    if not xml_file.endswith(\".xml\"):\n",
    "        continue\n",
    "    xml_path = os.path.join(xml_dir, xml_file)\n",
    "    tree = ET.parse(xml_path)\n",
    "    root = tree.getroot()\n",
    "\n",
    "    for obj in root.findall(\"object\"):\n",
    "        class_name = obj.find(\"name\").text\n",
    "        class_counts[class_name] += 1\n",
    "\n",
    "print(\" Class Frequencies from XML:\")\n",
    "for cls, count in sorted(class_counts.items(), key=lambda x: x[1], reverse=True):\n",
    "    print(f\"{cls}: {count} instances\")\n"
   ]
  },
  {
   "cell_type": "code",
   "execution_count": null,
   "id": "7290ff73-199e-4378-a22c-87c19119ed1f",
   "metadata": {},
   "outputs": [
    {
     "name": "stdout",
     "output_type": "stream",
     "text": [
      "✅ Rare class images and XMLs augmented with horizontal flips.\n"
     ]
    }
   ],
   "source": [
    "\n",
    "\n",
    "# Paths\n",
    "image_dir = \"./dataset_organized/images/train\"\n",
    "xml_dir = \"./dataset_organized/annotations/train\"\n",
    "out_img_dir = \"./dataset_augmented/images/train\"\n",
    "out_xml_dir = \"./dataset_augmented/annotations/train\"\n",
    "os.makedirs(out_img_dir, exist_ok=True)\n",
    "os.makedirs(out_xml_dir, exist_ok=True)\n",
    "\n",
    "rare_classes = {\"D11\", \"D01\", \"Repair\", \"D43\"}\n",
    "augment_count = 3\n",
    "\n",
    "for xml_file in os.listdir(xml_dir):\n",
    "    if not xml_file.endswith(\".xml\"):\n",
    "        continue\n",
    "\n",
    "    xml_path = os.path.join(xml_dir, xml_file)\n",
    "    tree = ET.parse(xml_path)\n",
    "    root = tree.getroot()\n",
    "    filename = root.find(\"filename\").text\n",
    "    img_path = os.path.join(image_dir, filename)\n",
    "\n",
    "    # Check if rare class exists\n",
    "    class_names = [obj.find(\"name\").text for obj in root.findall(\"object\")]\n",
    "    if not any(cls in rare_classes for cls in class_names):\n",
    "        continue\n",
    "    if not os.path.exists(img_path):\n",
    "        continue\n",
    "\n",
    "    # Read image\n",
    "    image = cv2.imread(img_path)\n",
    "    h, w = image.shape[:2]\n",
    "\n",
    "    for i in range(augment_count):\n",
    "        # Flip image\n",
    "        flipped = cv2.flip(image, 1)\n",
    "        new_img_name = f\"aug_{i}_{filename}\"\n",
    "        new_xml_name = f\"aug_{i}_{xml_file}\"\n",
    "        cv2.imwrite(os.path.join(out_img_dir, new_img_name), flipped)\n",
    "\n",
    "        # Flip XML bounding boxes\n",
    "        new_tree = ET.parse(xml_path)\n",
    "        new_root = new_tree.getroot()\n",
    "        new_root.find(\"filename\").text = new_img_name\n",
    "\n",
    "        for obj in new_root.findall(\"object\"):\n",
    "            bbox = obj.find(\"bndbox\")\n",
    "            xmin = int(bbox.find(\"xmin\").text)\n",
    "            xmax = int(bbox.find(\"xmax\").text)\n",
    "            new_xmin = w - xmax\n",
    "            new_xmax = w - xmin\n",
    "            bbox.find(\"xmin\").text = str(new_xmin)\n",
    "            bbox.find(\"xmax\").text = str(new_xmax)\n",
    "\n",
    "        new_tree.write(os.path.join(out_xml_dir, new_xml_name))\n",
    "\n",
    "print(\" Rare class images and XMLs augmented with horizontal flips.\")"
   ]
  },
  {
   "cell_type": "code",
   "execution_count": null,
   "id": "7be3c7d3-52f2-493a-bc77-042094e4b27d",
   "metadata": {},
   "outputs": [
    {
     "name": "stdout",
     "output_type": "stream",
     "text": [
      "📊 Class Frequencies from XML:\n",
      "D43: 2379 instances\n",
      "D00: 1389 instances\n",
      "D20: 1080 instances\n",
      "D50: 1014 instances\n",
      "D10: 849 instances\n",
      "Repair: 831 instances\n",
      "D40: 543 instances\n",
      "D01: 537 instances\n",
      "D44: 498 instances\n",
      "D11: 135 instances\n"
     ]
    }
   ],
   "source": [
    "\n",
    "\n",
    "xml_dir = \"./dataset_augmented/annotations/train\"\n",
    "class_counts = defaultdict(int)\n",
    "\n",
    "for xml_file in os.listdir(xml_dir):\n",
    "    if not xml_file.endswith(\".xml\"):\n",
    "        continue\n",
    "    xml_path = os.path.join(xml_dir, xml_file)\n",
    "    tree = ET.parse(xml_path)\n",
    "    root = tree.getroot()\n",
    "\n",
    "    for obj in root.findall(\"object\"):\n",
    "        class_name = obj.find(\"name\").text\n",
    "        class_counts[class_name] += 1\n",
    "\n",
    "print(\" Class Frequencies from XML:\")\n",
    "for cls, count in sorted(class_counts.items(), key=lambda x: x[1], reverse=True):\n",
    "    print(f\"{cls}: {count} instances\")\n"
   ]
  },
  {
   "cell_type": "code",
   "execution_count": null,
   "id": "ad794a4f-2bce-497f-9ddc-eac1ca619b6b",
   "metadata": {},
   "outputs": [],
   "source": []
  },
  {
   "cell_type": "code",
   "execution_count": null,
   "id": "abf58b2a-5f42-4abd-8a90-97f3fb2dadbf",
   "metadata": {},
   "outputs": [],
   "source": []
  },
  {
   "cell_type": "code",
   "execution_count": null,
   "id": "cd9aaa7f-25c2-4922-8826-0bbb62f4a6cc",
   "metadata": {},
   "outputs": [],
   "source": []
  },
  {
   "cell_type": "code",
   "execution_count": null,
   "id": "1038daa0-7a13-4cab-9e3c-69b2534ac2b6",
   "metadata": {},
   "outputs": [],
   "source": []
  },
  {
   "cell_type": "code",
   "execution_count": null,
   "id": "cbcbf5fd-3f15-4632-b7a0-9bc231da8a9c",
   "metadata": {},
   "outputs": [],
   "source": []
  },
  {
   "cell_type": "code",
   "execution_count": null,
   "id": "f5f84ed8-d1f6-4351-95f2-2d6110e3aa73",
   "metadata": {},
   "outputs": [],
   "source": []
  },
  {
   "cell_type": "code",
   "execution_count": null,
   "id": "8fcaa82b-1034-4c54-ab1d-da11f747fe56",
   "metadata": {},
   "outputs": [],
   "source": []
  },
  {
   "cell_type": "code",
   "execution_count": null,
   "id": "76e857ef-af57-4069-8d2b-b16f48d7b6f4",
   "metadata": {},
   "outputs": [],
   "source": []
  },
  {
   "cell_type": "code",
   "execution_count": null,
   "id": "0329e7d5-0469-4789-a91b-3c5e2400c029",
   "metadata": {},
   "outputs": [],
   "source": []
  },
  {
   "cell_type": "code",
   "execution_count": null,
   "id": "1d8a9253-3d3c-4ce3-badb-a6e68db894eb",
   "metadata": {},
   "outputs": [],
   "source": []
  },
  {
   "cell_type": "code",
   "execution_count": null,
   "id": "c2884f1f-2c58-4c61-b1c4-173a875160f5",
   "metadata": {},
   "outputs": [],
   "source": []
  },
  {
   "cell_type": "code",
   "execution_count": null,
   "id": "9c0e23f4-5fca-467e-a6fe-281a5d1d3658",
   "metadata": {},
   "outputs": [],
   "source": []
  }
 ],
 "metadata": {
  "kernelspec": {
   "display_name": "Python 3",
   "language": "python",
   "name": "python3"
  },
  "language_info": {
   "codemirror_mode": {
    "name": "ipython",
    "version": 3
   },
   "file_extension": ".py",
   "mimetype": "text/x-python",
   "name": "python",
   "nbconvert_exporter": "python",
   "pygments_lexer": "ipython3",
   "version": "3.12.7"
  }
 },
 "nbformat": 4,
 "nbformat_minor": 5
}
